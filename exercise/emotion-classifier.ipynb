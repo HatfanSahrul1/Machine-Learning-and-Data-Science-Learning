{
 "cells": [
  {
   "cell_type": "markdown",
   "id": "1ba2ddaf",
   "metadata": {},
   "source": [
    "# Emotion Classifier Example Project"
   ]
  },
  {
   "cell_type": "markdown",
   "id": "438674ad",
   "metadata": {},
   "source": [
    "## TODO"
   ]
  },
  {
   "cell_type": "markdown",
   "id": "d96757e0",
   "metadata": {},
   "source": [
    "Bagus! Kalau kamu ingin **step-by-step** tanpa detail kode, agar bisa dicoba dan dipelajari sendiri, berikut adalah alur kerja yang bisa kamu ikuti di **Jupyter Notebook**, mulai dari load data sampai save model menggunakan `pickle`, lalu mencoba inference sederhana:\n",
    "\n",
    "---\n",
    "\n",
    "### 🧪 Tahapan Umum: Train & Save Model (Train Phase)\n",
    "\n",
    "1. **Persiapkan environment**\n",
    "   - Aktifkan virtual environment\n",
    "   - Instal library yang dibutuhkan (`pandas`, `scikit-learn`, `pyarrow`, `pickle`)\n",
    "\n",
    "2. **Import library yang diperlukan**\n",
    "   - Contoh: `pandas`, `numpy`, `sklearn`, `pickle`\n",
    "\n",
    "3. **Load dataset**\n",
    "   - Gunakan `pd.read_parquet()` untuk membaca file `.parquet`\n",
    "   - Pastikan kolom teks dan label emosi sudah benar\n",
    "\n",
    "4. **Eksplorasi awal**\n",
    "   - Tampilkan beberapa baris data\n",
    "   - Cek distribusi label emosi\n",
    "\n",
    "5. **Preprocessing sederhana**\n",
    "   - Bersihkan teks (hapus karakter aneh, lowercase, dll)\n",
    "   - Pertimbangkan tokenisasi atau hapus stopwords (opsional)\n",
    "\n",
    "6. **Split data**\n",
    "   - Pisahkan menjadi data latih dan data uji\n",
    "   - Pisahkan juga antara fitur (`X`) dan target (`y`)\n",
    "\n",
    "7. **Vektorisasi teks**\n",
    "   - Gunakan `TfidfVectorizer` atau `CountVectorizer`\n",
    "   - Sesuaikan dengan kebutuhan model\n",
    "\n",
    "8. **Latih model**\n",
    "   - Pilih model seperti `SVM`, `Naive Bayes`, atau `Random Forest`\n",
    "   - Latih model menggunakan data latih\n",
    "\n",
    "9. **Evaluasi model**\n",
    "   - Uji performa model dengan data uji\n",
    "   - Lihat akurasi, precision, recall, dll\n",
    "\n",
    "10. **Simpan model dan vectorizer**\n",
    "    - Gunakan `pickle.dump()` untuk menyimpan model dan vectorizer\n",
    "    - Simpan dalam file `.pkl`\n",
    "\n",
    "---\n",
    "\n",
    "### ⚙️ Tahapan Inference (Test Phase)\n",
    "\n",
    "11. **Muat model dan vectorizer**\n",
    "    - Gunakan `pickle.load()` untuk memuat kembali model dan vectorizer\n",
    "\n",
    "12. **Masukkan teks baru**\n",
    "    - Ketik atau input teks bebas sebagai input pengguna\n",
    "\n",
    "13. **Lakukan preprocessing**\n",
    "    - Lakukan hal yang sama seperti saat training\n",
    "\n",
    "14. **Transformasi teks**\n",
    "    - Gunakan vectorizer yang telah dimuat untuk mengubah teks\n",
    "\n",
    "15. **Prediksi emosi**\n",
    "    - Gunakan model untuk memprediksi label emosi dari teks\n",
    "\n",
    "16. **Tampilkan hasil**\n",
    "    - Print atau tampilkan hasil prediksi\n",
    "\n",
    "---\n",
    "\n",
    "### ✅ Tips:\n",
    "- Coba satu-satu setiap tahap\n",
    "- Jika error, cek kembali langkah sebelumnya\n",
    "- Mainkan dataset dan model untuk eksperimen\n",
    "\n",
    "Kamu sudah punya semua informasi yang cukup untuk melanjutkan.\n",
    "\n",
    "Selamat belajar dan bereksperimen! Kalau ada kendala atau ingin lanjut ke integrasi Unity/C#, saya siap bantu 😄"
   ]
  },
  {
   "cell_type": "markdown",
   "id": "3f771fdc",
   "metadata": {},
   "source": [
    "## Preparation and Setup"
   ]
  },
  {
   "cell_type": "code",
   "execution_count": 26,
   "id": "ebf2fdf2",
   "metadata": {},
   "outputs": [],
   "source": [
    "import numpy as np\n",
    "import pandas as pd\n",
    "import sklearn"
   ]
  },
  {
   "cell_type": "code",
   "execution_count": 27,
   "id": "91489965",
   "metadata": {},
   "outputs": [],
   "source": [
    "emotion_dataframe = pd.read_parquet(\"emotions_dataset.parquet\", engine=\"pyarrow\")"
   ]
  },
  {
   "cell_type": "code",
   "execution_count": 28,
   "id": "271e3aca",
   "metadata": {},
   "outputs": [
    {
     "data": {
      "text/html": [
       "<div>\n",
       "<style scoped>\n",
       "    .dataframe tbody tr th:only-of-type {\n",
       "        vertical-align: middle;\n",
       "    }\n",
       "\n",
       "    .dataframe tbody tr th {\n",
       "        vertical-align: top;\n",
       "    }\n",
       "\n",
       "    .dataframe thead th {\n",
       "        text-align: right;\n",
       "    }\n",
       "</style>\n",
       "<table border=\"1\" class=\"dataframe\">\n",
       "  <thead>\n",
       "    <tr style=\"text-align: right;\">\n",
       "      <th></th>\n",
       "      <th>Sentence</th>\n",
       "      <th>Label</th>\n",
       "    </tr>\n",
       "  </thead>\n",
       "  <tbody>\n",
       "    <tr>\n",
       "      <th>0</th>\n",
       "      <td>Unfortunately later died from eating tainted m...</td>\n",
       "      <td>happiness</td>\n",
       "    </tr>\n",
       "    <tr>\n",
       "      <th>1</th>\n",
       "      <td>Last time I saw was loooong ago. Basically bef...</td>\n",
       "      <td>neutral</td>\n",
       "    </tr>\n",
       "    <tr>\n",
       "      <th>2</th>\n",
       "      <td>You mean by number of military personnel? Beca...</td>\n",
       "      <td>neutral</td>\n",
       "    </tr>\n",
       "    <tr>\n",
       "      <th>3</th>\n",
       "      <td>Need to go middle of the road no NAME is going...</td>\n",
       "      <td>sadness</td>\n",
       "    </tr>\n",
       "    <tr>\n",
       "      <th>4</th>\n",
       "      <td>feel melty miserable enough imagine must</td>\n",
       "      <td>sadness</td>\n",
       "    </tr>\n",
       "    <tr>\n",
       "      <th>5</th>\n",
       "      <td>feel sense relief also sadness end colleagues ...</td>\n",
       "      <td>happiness</td>\n",
       "    </tr>\n",
       "    <tr>\n",
       "      <th>6</th>\n",
       "      <td>think get feel weird ones use dryers time</td>\n",
       "      <td>surprise</td>\n",
       "    </tr>\n",
       "    <tr>\n",
       "      <th>7</th>\n",
       "      <td>If your host stand has a register that isn’t l...</td>\n",
       "      <td>neutral</td>\n",
       "    </tr>\n",
       "    <tr>\n",
       "      <th>8</th>\n",
       "      <td>Oh . someone finally posted something I cant b...</td>\n",
       "      <td>surprise</td>\n",
       "    </tr>\n",
       "    <tr>\n",
       "      <th>9</th>\n",
       "      <td>feel presence beloved behind tilt neck side sm...</td>\n",
       "      <td>love</td>\n",
       "    </tr>\n",
       "  </tbody>\n",
       "</table>\n",
       "</div>"
      ],
      "text/plain": [
       "                                            Sentence      Label\n",
       "0  Unfortunately later died from eating tainted m...  happiness\n",
       "1  Last time I saw was loooong ago. Basically bef...    neutral\n",
       "2  You mean by number of military personnel? Beca...    neutral\n",
       "3  Need to go middle of the road no NAME is going...    sadness\n",
       "4           feel melty miserable enough imagine must    sadness\n",
       "5  feel sense relief also sadness end colleagues ...  happiness\n",
       "6          think get feel weird ones use dryers time   surprise\n",
       "7  If your host stand has a register that isn’t l...    neutral\n",
       "8  Oh . someone finally posted something I cant b...   surprise\n",
       "9  feel presence beloved behind tilt neck side sm...       love"
      ]
     },
     "execution_count": 28,
     "metadata": {},
     "output_type": "execute_result"
    }
   ],
   "source": [
    "emotion_dataframe.head(10)"
   ]
  },
  {
   "cell_type": "code",
   "execution_count": 29,
   "id": "bacf47af",
   "metadata": {},
   "outputs": [
    {
     "data": {
      "text/plain": [
       "131306"
      ]
     },
     "execution_count": 29,
     "metadata": {},
     "output_type": "execute_result"
    }
   ],
   "source": [
    "# check length of table\n",
    "len(emotion_dataframe)"
   ]
  },
  {
   "cell_type": "code",
   "execution_count": 30,
   "id": "20686bef",
   "metadata": {},
   "outputs": [
    {
     "name": "stdout",
     "output_type": "stream",
     "text": [
      "<class 'pandas.core.frame.DataFrame'>\n",
      "RangeIndex: 131306 entries, 0 to 131305\n",
      "Data columns (total 2 columns):\n",
      " #   Column    Non-Null Count   Dtype \n",
      "---  ------    --------------   ----- \n",
      " 0   Sentence  131306 non-null  object\n",
      " 1   Label     131306 non-null  object\n",
      "dtypes: object(2)\n",
      "memory usage: 2.0+ MB\n"
     ]
    }
   ],
   "source": [
    "emotion_dataframe.info()"
   ]
  },
  {
   "cell_type": "markdown",
   "id": "fd25fc75",
   "metadata": {},
   "source": [
    "### Check is there any null or NaN data"
   ]
  },
  {
   "cell_type": "code",
   "execution_count": 31,
   "id": "281ba46a",
   "metadata": {},
   "outputs": [
    {
     "data": {
      "text/plain": [
       "np.int64(0)"
      ]
     },
     "execution_count": 31,
     "metadata": {},
     "output_type": "execute_result"
    }
   ],
   "source": [
    "isnull = emotion_dataframe.isnull().sum().sum()\n",
    "isnull"
   ]
  },
  {
   "cell_type": "code",
   "execution_count": 32,
   "id": "70ec42f2",
   "metadata": {},
   "outputs": [
    {
     "data": {
      "text/plain": [
       "np.int64(0)"
      ]
     },
     "execution_count": 32,
     "metadata": {},
     "output_type": "execute_result"
    }
   ],
   "source": [
    "isna = emotion_dataframe.isna().sum().sum()\n",
    "isna"
   ]
  },
  {
   "cell_type": "markdown",
   "id": "921887fe",
   "metadata": {},
   "source": [
    "### Check labels"
   ]
  },
  {
   "cell_type": "code",
   "execution_count": 33,
   "id": "019093e2",
   "metadata": {},
   "outputs": [
    {
     "data": {
      "text/plain": [
       "array(['happiness', 'neutral', 'sadness', 'surprise', 'love', 'fear',\n",
       "       'confusion', 'disgust', 'desire', 'shame', 'sarcasm', 'anger',\n",
       "       'guilt'], dtype=object)"
      ]
     },
     "execution_count": 33,
     "metadata": {},
     "output_type": "execute_result"
    }
   ],
   "source": [
    "labels = emotion_dataframe[\"Label\"].unique()\n",
    "labels"
   ]
  },
  {
   "cell_type": "markdown",
   "id": "8e410e9f",
   "metadata": {},
   "source": [
    "## Preprocessing"
   ]
  },
  {
   "cell_type": "markdown",
   "id": "b2f42f5a",
   "metadata": {},
   "source": [
    "### Clean Punctuation\n",
    "except \"?\" and \"!\""
   ]
  },
  {
   "cell_type": "code",
   "execution_count": 36,
   "id": "282c0d22",
   "metadata": {},
   "outputs": [
    {
     "data": {
      "text/html": [
       "<div>\n",
       "<style scoped>\n",
       "    .dataframe tbody tr th:only-of-type {\n",
       "        vertical-align: middle;\n",
       "    }\n",
       "\n",
       "    .dataframe tbody tr th {\n",
       "        vertical-align: top;\n",
       "    }\n",
       "\n",
       "    .dataframe thead th {\n",
       "        text-align: right;\n",
       "    }\n",
       "</style>\n",
       "<table border=\"1\" class=\"dataframe\">\n",
       "  <thead>\n",
       "    <tr style=\"text-align: right;\">\n",
       "      <th></th>\n",
       "      <th>Sentence</th>\n",
       "      <th>Label</th>\n",
       "    </tr>\n",
       "  </thead>\n",
       "  <tbody>\n",
       "    <tr>\n",
       "      <th>0</th>\n",
       "      <td>Unfortunately later died from eating tainted m...</td>\n",
       "      <td>happiness</td>\n",
       "    </tr>\n",
       "    <tr>\n",
       "      <th>1</th>\n",
       "      <td>Last time I saw was loooong ago Basically befo...</td>\n",
       "      <td>neutral</td>\n",
       "    </tr>\n",
       "    <tr>\n",
       "      <th>2</th>\n",
       "      <td>You mean by number of military personnel? Beca...</td>\n",
       "      <td>neutral</td>\n",
       "    </tr>\n",
       "    <tr>\n",
       "      <th>3</th>\n",
       "      <td>Need to go middle of the road no NAME is going...</td>\n",
       "      <td>sadness</td>\n",
       "    </tr>\n",
       "    <tr>\n",
       "      <th>4</th>\n",
       "      <td>feel melty miserable enough imagine must</td>\n",
       "      <td>sadness</td>\n",
       "    </tr>\n",
       "    <tr>\n",
       "      <th>5</th>\n",
       "      <td>feel sense relief also sadness end colleagues ...</td>\n",
       "      <td>happiness</td>\n",
       "    </tr>\n",
       "    <tr>\n",
       "      <th>6</th>\n",
       "      <td>think get feel weird ones use dryers time</td>\n",
       "      <td>surprise</td>\n",
       "    </tr>\n",
       "    <tr>\n",
       "      <th>7</th>\n",
       "      <td>If your host stand has a register that isnt lo...</td>\n",
       "      <td>neutral</td>\n",
       "    </tr>\n",
       "    <tr>\n",
       "      <th>8</th>\n",
       "      <td>Oh  someone finally posted something I cant br...</td>\n",
       "      <td>surprise</td>\n",
       "    </tr>\n",
       "    <tr>\n",
       "      <th>9</th>\n",
       "      <td>feel presence beloved behind tilt neck side sm...</td>\n",
       "      <td>love</td>\n",
       "    </tr>\n",
       "  </tbody>\n",
       "</table>\n",
       "</div>"
      ],
      "text/plain": [
       "                                            Sentence      Label\n",
       "0  Unfortunately later died from eating tainted m...  happiness\n",
       "1  Last time I saw was loooong ago Basically befo...    neutral\n",
       "2  You mean by number of military personnel? Beca...    neutral\n",
       "3  Need to go middle of the road no NAME is going...    sadness\n",
       "4           feel melty miserable enough imagine must    sadness\n",
       "5  feel sense relief also sadness end colleagues ...  happiness\n",
       "6          think get feel weird ones use dryers time   surprise\n",
       "7  If your host stand has a register that isnt lo...    neutral\n",
       "8  Oh  someone finally posted something I cant br...   surprise\n",
       "9  feel presence beloved behind tilt neck side sm...       love"
      ]
     },
     "execution_count": 36,
     "metadata": {},
     "output_type": "execute_result"
    }
   ],
   "source": [
    "clean_sentence_data = emotion_dataframe.copy()\n",
    "\n",
    "# menghapus tanda baca selain ! dan ?\n",
    "clean_sentence_data[\"Sentence\"] = emotion_dataframe.copy()[\"Sentence\"].str.replace(r'[^\\w\\s!?]', '', regex=True)\n",
    "\n",
    "clean_sentence_data.head(10)"
   ]
  },
  {
   "cell_type": "markdown",
   "id": "e768e6a4",
   "metadata": {},
   "source": [
    "### Lowercase vs Sensitive-Case"
   ]
  },
  {
   "cell_type": "markdown",
   "id": "af44d86f",
   "metadata": {},
   "source": [
    "#### Lowercase"
   ]
  },
  {
   "cell_type": "code",
   "execution_count": 40,
   "id": "89afe8ca",
   "metadata": {},
   "outputs": [],
   "source": [
    "lowercase_data = emotion_dataframe.copy()\n",
    "lowercase_data[\"Sentence\"] = lowercase_data[\"Sentence\"].str.lower()"
   ]
  },
  {
   "cell_type": "code",
   "execution_count": 39,
   "id": "d3535420",
   "metadata": {},
   "outputs": [
    {
     "data": {
      "text/html": [
       "<div>\n",
       "<style scoped>\n",
       "    .dataframe tbody tr th:only-of-type {\n",
       "        vertical-align: middle;\n",
       "    }\n",
       "\n",
       "    .dataframe tbody tr th {\n",
       "        vertical-align: top;\n",
       "    }\n",
       "\n",
       "    .dataframe thead th {\n",
       "        text-align: right;\n",
       "    }\n",
       "</style>\n",
       "<table border=\"1\" class=\"dataframe\">\n",
       "  <thead>\n",
       "    <tr style=\"text-align: right;\">\n",
       "      <th></th>\n",
       "      <th>Sentence</th>\n",
       "      <th>Label</th>\n",
       "    </tr>\n",
       "  </thead>\n",
       "  <tbody>\n",
       "    <tr>\n",
       "      <th>0</th>\n",
       "      <td>unfortunately later died from eating tainted m...</td>\n",
       "      <td>happiness</td>\n",
       "    </tr>\n",
       "    <tr>\n",
       "      <th>1</th>\n",
       "      <td>last time i saw was loooong ago. basically bef...</td>\n",
       "      <td>neutral</td>\n",
       "    </tr>\n",
       "    <tr>\n",
       "      <th>2</th>\n",
       "      <td>you mean by number of military personnel? beca...</td>\n",
       "      <td>neutral</td>\n",
       "    </tr>\n",
       "    <tr>\n",
       "      <th>3</th>\n",
       "      <td>need to go middle of the road no name is going...</td>\n",
       "      <td>sadness</td>\n",
       "    </tr>\n",
       "    <tr>\n",
       "      <th>4</th>\n",
       "      <td>feel melty miserable enough imagine must</td>\n",
       "      <td>sadness</td>\n",
       "    </tr>\n",
       "    <tr>\n",
       "      <th>5</th>\n",
       "      <td>feel sense relief also sadness end colleagues ...</td>\n",
       "      <td>happiness</td>\n",
       "    </tr>\n",
       "    <tr>\n",
       "      <th>6</th>\n",
       "      <td>think get feel weird ones use dryers time</td>\n",
       "      <td>surprise</td>\n",
       "    </tr>\n",
       "    <tr>\n",
       "      <th>7</th>\n",
       "      <td>if your host stand has a register that isn’t l...</td>\n",
       "      <td>neutral</td>\n",
       "    </tr>\n",
       "    <tr>\n",
       "      <th>8</th>\n",
       "      <td>oh . someone finally posted something i cant b...</td>\n",
       "      <td>surprise</td>\n",
       "    </tr>\n",
       "    <tr>\n",
       "      <th>9</th>\n",
       "      <td>feel presence beloved behind tilt neck side sm...</td>\n",
       "      <td>love</td>\n",
       "    </tr>\n",
       "  </tbody>\n",
       "</table>\n",
       "</div>"
      ],
      "text/plain": [
       "                                            Sentence      Label\n",
       "0  unfortunately later died from eating tainted m...  happiness\n",
       "1  last time i saw was loooong ago. basically bef...    neutral\n",
       "2  you mean by number of military personnel? beca...    neutral\n",
       "3  need to go middle of the road no name is going...    sadness\n",
       "4           feel melty miserable enough imagine must    sadness\n",
       "5  feel sense relief also sadness end colleagues ...  happiness\n",
       "6          think get feel weird ones use dryers time   surprise\n",
       "7  if your host stand has a register that isn’t l...    neutral\n",
       "8  oh . someone finally posted something i cant b...   surprise\n",
       "9  feel presence beloved behind tilt neck side sm...       love"
      ]
     },
     "execution_count": 39,
     "metadata": {},
     "output_type": "execute_result"
    }
   ],
   "source": [
    "lowercase_data.head(10)"
   ]
  },
  {
   "cell_type": "code",
   "execution_count": 35,
   "id": "7690a067",
   "metadata": {},
   "outputs": [
    {
     "data": {
      "text/html": [
       "<div>\n",
       "<style scoped>\n",
       "    .dataframe tbody tr th:only-of-type {\n",
       "        vertical-align: middle;\n",
       "    }\n",
       "\n",
       "    .dataframe tbody tr th {\n",
       "        vertical-align: top;\n",
       "    }\n",
       "\n",
       "    .dataframe thead th {\n",
       "        text-align: right;\n",
       "    }\n",
       "</style>\n",
       "<table border=\"1\" class=\"dataframe\">\n",
       "  <thead>\n",
       "    <tr style=\"text-align: right;\">\n",
       "      <th></th>\n",
       "      <th>Sentence</th>\n",
       "      <th>Label</th>\n",
       "    </tr>\n",
       "  </thead>\n",
       "  <tbody>\n",
       "    <tr>\n",
       "      <th>0</th>\n",
       "      <td>Unfortunately later died from eating tainted m...</td>\n",
       "      <td>happiness</td>\n",
       "    </tr>\n",
       "    <tr>\n",
       "      <th>1</th>\n",
       "      <td>Last time I saw was loooong ago. Basically bef...</td>\n",
       "      <td>neutral</td>\n",
       "    </tr>\n",
       "    <tr>\n",
       "      <th>2</th>\n",
       "      <td>You mean by number of military personnel? Beca...</td>\n",
       "      <td>neutral</td>\n",
       "    </tr>\n",
       "    <tr>\n",
       "      <th>3</th>\n",
       "      <td>Need to go middle of the road no NAME is going...</td>\n",
       "      <td>sadness</td>\n",
       "    </tr>\n",
       "    <tr>\n",
       "      <th>4</th>\n",
       "      <td>feel melty miserable enough imagine must</td>\n",
       "      <td>sadness</td>\n",
       "    </tr>\n",
       "    <tr>\n",
       "      <th>5</th>\n",
       "      <td>feel sense relief also sadness end colleagues ...</td>\n",
       "      <td>happiness</td>\n",
       "    </tr>\n",
       "    <tr>\n",
       "      <th>6</th>\n",
       "      <td>think get feel weird ones use dryers time</td>\n",
       "      <td>surprise</td>\n",
       "    </tr>\n",
       "    <tr>\n",
       "      <th>7</th>\n",
       "      <td>If your host stand has a register that isn’t l...</td>\n",
       "      <td>neutral</td>\n",
       "    </tr>\n",
       "    <tr>\n",
       "      <th>8</th>\n",
       "      <td>Oh . someone finally posted something I cant b...</td>\n",
       "      <td>surprise</td>\n",
       "    </tr>\n",
       "    <tr>\n",
       "      <th>9</th>\n",
       "      <td>feel presence beloved behind tilt neck side sm...</td>\n",
       "      <td>love</td>\n",
       "    </tr>\n",
       "  </tbody>\n",
       "</table>\n",
       "</div>"
      ],
      "text/plain": [
       "                                            Sentence      Label\n",
       "0  Unfortunately later died from eating tainted m...  happiness\n",
       "1  Last time I saw was loooong ago. Basically bef...    neutral\n",
       "2  You mean by number of military personnel? Beca...    neutral\n",
       "3  Need to go middle of the road no NAME is going...    sadness\n",
       "4           feel melty miserable enough imagine must    sadness\n",
       "5  feel sense relief also sadness end colleagues ...  happiness\n",
       "6          think get feel weird ones use dryers time   surprise\n",
       "7  If your host stand has a register that isn’t l...    neutral\n",
       "8  Oh . someone finally posted something I cant b...   surprise\n",
       "9  feel presence beloved behind tilt neck side sm...       love"
      ]
     },
     "execution_count": 35,
     "metadata": {},
     "output_type": "execute_result"
    }
   ],
   "source": [
    "#  just keep it taht way\n",
    "sensi_case_data = emotion_dataframe.copy()\n",
    "sensi_case_data.head(10)"
   ]
  },
  {
   "cell_type": "markdown",
   "id": "136ed84e",
   "metadata": {},
   "source": [
    "### Split Data"
   ]
  },
  {
   "cell_type": "code",
   "execution_count": 44,
   "id": "b376e9cd",
   "metadata": {},
   "outputs": [],
   "source": [
    "#lowercase\n",
    "X_low = lowercase_data.copy()[\"Sentence\"]\n",
    "y_low = lowercase_data.copy()[\"Label\"]\n",
    "\n",
    "X_sensi = sensi_case_data.copy()[\"Sentence\"]\n",
    "y_sensi = sensi_case_data.copy()[\"Label\"]\n"
   ]
  },
  {
   "cell_type": "code",
   "execution_count": 41,
   "id": "4a046bf0",
   "metadata": {},
   "outputs": [
    {
     "data": {
      "text/plain": [
       "(0         unfortunately later died from eating tainted m...\n",
       " 1         last time i saw was loooong ago. basically bef...\n",
       " 2         you mean by number of military personnel? beca...\n",
       " 3         need to go middle of the road no name is going...\n",
       " 4                  feel melty miserable enough imagine must\n",
       "                                 ...                        \n",
       " 131301    yeah, shes reasonable on some issues for sure,...\n",
       " 131302    >just something motor**sport** fans tell thems...\n",
       " 131303                                what about hot water?\n",
       " 131304                 i’d love to learn how to make bread.\n",
       " 131305    dont give away my zip code! craft beer and fab...\n",
       " Name: Sentence, Length: 131306, dtype: object,\n",
       " 0         happiness\n",
       " 1           neutral\n",
       " 2           neutral\n",
       " 3           sadness\n",
       " 4           sadness\n",
       "             ...    \n",
       " 131301    happiness\n",
       " 131302    confusion\n",
       " 131303    confusion\n",
       " 131304       desire\n",
       " 131305    happiness\n",
       " Name: Label, Length: 131306, dtype: object)"
      ]
     },
     "execution_count": 41,
     "metadata": {},
     "output_type": "execute_result"
    }
   ],
   "source": [
    "X_low, y_low"
   ]
  },
  {
   "cell_type": "code",
   "execution_count": 45,
   "id": "cfb6b4bc",
   "metadata": {},
   "outputs": [
    {
     "data": {
      "text/plain": [
       "(0         Unfortunately later died from eating tainted m...\n",
       " 1         Last time I saw was loooong ago. Basically bef...\n",
       " 2         You mean by number of military personnel? Beca...\n",
       " 3         Need to go middle of the road no NAME is going...\n",
       " 4                  feel melty miserable enough imagine must\n",
       "                                 ...                        \n",
       " 131301    Yeah, shes reasonable on some issues for sure,...\n",
       " 131302    >just something motor**sport** fans tell thems...\n",
       " 131303                                What about hot water?\n",
       " 131304                 I’d love to learn how to make bread.\n",
       " 131305    Dont give away my zip code! Craft beer and fab...\n",
       " Name: Sentence, Length: 131306, dtype: object,\n",
       " 0         happiness\n",
       " 1           neutral\n",
       " 2           neutral\n",
       " 3           sadness\n",
       " 4           sadness\n",
       "             ...    \n",
       " 131301    happiness\n",
       " 131302    confusion\n",
       " 131303    confusion\n",
       " 131304       desire\n",
       " 131305    happiness\n",
       " Name: Label, Length: 131306, dtype: object)"
      ]
     },
     "execution_count": 45,
     "metadata": {},
     "output_type": "execute_result"
    }
   ],
   "source": [
    "X_sensi, y_sensi"
   ]
  },
  {
   "cell_type": "markdown",
   "id": "835d452e",
   "metadata": {},
   "source": [
    "## Tokenization"
   ]
  },
  {
   "cell_type": "code",
   "execution_count": 46,
   "id": "616270ed",
   "metadata": {},
   "outputs": [],
   "source": [
    "from sklearn.feature_extraction.text import CountVectorizer"
   ]
  },
  {
   "cell_type": "code",
   "execution_count": null,
   "id": "01ee215b",
   "metadata": {},
   "outputs": [],
   "source": []
  }
 ],
 "metadata": {
  "kernelspec": {
   "display_name": "Python 3",
   "language": "python",
   "name": "python3"
  },
  "language_info": {
   "codemirror_mode": {
    "name": "ipython",
    "version": 3
   },
   "file_extension": ".py",
   "mimetype": "text/x-python",
   "name": "python",
   "nbconvert_exporter": "python",
   "pygments_lexer": "ipython3",
   "version": "3.13.2"
  }
 },
 "nbformat": 4,
 "nbformat_minor": 5
}
