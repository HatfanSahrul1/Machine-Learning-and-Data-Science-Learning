{
 "cells": [
  {
   "cell_type": "markdown",
   "id": "d217789b",
   "metadata": {},
   "source": [
    "# Visualisasi Data Penjualan Game"
   ]
  },
  {
   "cell_type": "markdown",
   "id": "e9605ddc",
   "metadata": {},
   "source": [
    "### Pertanyaan "
   ]
  },
  {
   "cell_type": "markdown",
   "id": "5062c0e1",
   "metadata": {},
   "source": [
    "- Genre apa yang paling banyak terjual?\n",
    "- Platform mana yang paling populer dari sisi penjualan?\n",
    "- Kawasan mana yang paling banyak konsumsi game?\n",
    "- Apakah rating berpengaruh terhadap penjualan game?"
   ]
  },
  {
   "cell_type": "markdown",
   "id": "5c960f50",
   "metadata": {},
   "source": [
    "## Persiapan"
   ]
  },
  {
   "cell_type": "markdown",
   "id": "a90e1f26",
   "metadata": {},
   "source": [
    "### Import library"
   ]
  },
  {
   "cell_type": "code",
   "execution_count": 2,
   "id": "564e8f4b",
   "metadata": {},
   "outputs": [],
   "source": [
    "import pandas as pd\n",
    "import numpy as np\n",
    "import matplotlib.pyplot as plt"
   ]
  },
  {
   "cell_type": "code",
   "execution_count": null,
   "id": "2f5375bd",
   "metadata": {},
   "outputs": [],
   "source": []
  }
 ],
 "metadata": {
  "kernelspec": {
   "display_name": "env",
   "language": "python",
   "name": "python3"
  },
  "language_info": {
   "codemirror_mode": {
    "name": "ipython",
    "version": 3
   },
   "file_extension": ".py",
   "mimetype": "text/x-python",
   "name": "python",
   "nbconvert_exporter": "python",
   "pygments_lexer": "ipython3",
   "version": "3.13.2"
  }
 },
 "nbformat": 4,
 "nbformat_minor": 5
}
