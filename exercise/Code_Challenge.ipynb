{
  "cells": [
    {
      "cell_type": "markdown",
      "id": "190a46a5",
      "metadata": {
        "id": "190a46a5"
      },
      "source": [
        "Code Challenge : Membantu siswa dalam mengasa kemampuan berfikir kritis menyelesaikan kasus dalam bentuk pemrograman"
      ]
    },
    {
      "cell_type": "markdown",
      "id": "16f30f25",
      "metadata": {
        "id": "16f30f25"
      },
      "source": [
        "# Code Challenge"
      ]
    },
    {
      "cell_type": "markdown",
      "id": "6c585241",
      "metadata": {
        "id": "6c585241"
      },
      "source": [
        "1. Tulis program Python sederhana yang meminta pengguna untuk memasukkan dua angka, kemudian menghitung dan mencetak hasil penjumlahan kedua angka tersebut."
      ]
    },
    {
      "cell_type": "code",
      "execution_count": null,
      "id": "B1CR-t6L_az7",
      "metadata": {
        "colab": {
          "base_uri": "https://localhost:8080/"
        },
        "id": "B1CR-t6L_az7",
        "outputId": "2287aef1-26da-4ace-8b56-a5b812fbfb81"
      },
      "outputs": [
        {
          "name": "stdout",
          "output_type": "stream",
          "text": [
            "Masukan bilangan pertama: 8\n",
            "Masukan bilangan kedua: 9\n",
            "hasil penjumlahan : 17\n"
          ]
        }
      ],
      "source": [
        "def jumlah(a, b):\n",
        "  if isinstance(a, int) and isinstance(b, int):\n",
        "    return a+b\n",
        "  else:\n",
        "    return \"tidak valid, harus angka\"\n",
        "\n",
        "try:\n",
        "    bil1 = int(input(\"Masukan bilangan pertama: \"))\n",
        "    bil2 = int(input(\"Masukan bilangan kedua: \"))\n",
        "\n",
        "    hasil = jumlah(bil1, bil2)\n",
        "    print(f\"hasil penjumlahan : {hasil}\")\n",
        "except ValueError:\n",
        "    print(\"tidak valid, harus angka\")"
      ]
    },
    {
      "cell_type": "markdown",
      "id": "7b54ae33",
      "metadata": {
        "id": "7b54ae33"
      },
      "source": [
        "2. Buatlah program Python yang meminta pengguna untuk memasukkan jari-jari lingkaran, dan kemudian menghitung dan mencetak luas lingkaran tersebut. Gunakan rumus luas lingkaran: Luas = π * r^2, dengan π (pi) bernilai 3.14."
      ]
    },
    {
      "cell_type": "code",
      "execution_count": null,
      "id": "dVnqip9-CC_x",
      "metadata": {
        "colab": {
          "base_uri": "https://localhost:8080/"
        },
        "id": "dVnqip9-CC_x",
        "outputId": "30afeb32-49cf-47e6-dfa8-ee1183e7924c"
      },
      "outputs": [
        {
          "name": "stdout",
          "output_type": "stream",
          "text": [
            "Masukan jari jari: 14\n",
            "Luas lingkaran : 615.44\n"
          ]
        }
      ],
      "source": [
        "def luas_lingkaran(r):\n",
        "  pi = 3.14\n",
        "  if isinstance(r, int):\n",
        "    return pi*(r*r)\n",
        "  else:\n",
        "    return \"tidak valid, harus angka\"\n",
        "\n",
        "try:\n",
        "    r = int(input(\"Masukan jari jari: \"))\n",
        "\n",
        "    hasil = luas_lingkaran(r)\n",
        "    print(f\"Luas lingkaran : {hasil}\")\n",
        "except ValueError:\n",
        "    print(\"tidak valid, harus angka\")"
      ]
    },
    {
      "cell_type": "markdown",
      "id": "2ea95cab",
      "metadata": {
        "id": "2ea95cab"
      },
      "source": [
        "3. Buatlah program Python yang meminta pengguna untuk memasukkan sebuah bilangan bulat positif, lalu menghitung dan mencetak faktorial dari bilangan tersebut. Faktorial dari bilangan bulat n (dilambangkan dengan n!) adalah hasil perkalian semua bilangan bulat positif dari 1 hingga n.\n",
        "\n",
        "  Example : <br>\n",
        "Masukkan bilangan bulat positif: 5\n",
        "Faktorial dari 5 adalah: 120\n"
      ]
    },
    {
      "cell_type": "code",
      "execution_count": null,
      "id": "AJelxKxEEtYT",
      "metadata": {
        "colab": {
          "base_uri": "https://localhost:8080/"
        },
        "id": "AJelxKxEEtYT",
        "outputId": "308b67f8-a4c1-4296-af63-b541daa73a69"
      },
      "outputs": [
        {
          "name": "stdout",
          "output_type": "stream",
          "text": [
            "Masukkan bilangan bulat positif: 6\n",
            "Faktorial dari 6 adalah: : 720\n"
          ]
        }
      ],
      "source": [
        "def faktorial(a):\n",
        "  hasil = 1\n",
        "\n",
        "  if a < 1:\n",
        "    return \"harus lebih dari 0\"\n",
        "\n",
        "  while a > 1:\n",
        "    hasil = hasil * a\n",
        "    a = a-1\n",
        "\n",
        "  return hasil\n",
        "\n",
        "\n",
        "\n",
        "try:\n",
        "    kalimat = int(input(\"Masukkan bilangan bulat positif: \"))\n",
        "\n",
        "    hasil = faktorial(kalimat)\n",
        "    print(f\"Faktorial dari {kalimat} adalah: : {hasil}\")\n",
        "except ValueError:\n",
        "    print(\"tidak valid, harus angka\")\n"
      ]
    },
    {
      "cell_type": "markdown",
      "id": "03ac4a8f",
      "metadata": {
        "id": "03ac4a8f"
      },
      "source": [
        "4. Tulis program Python yang meminta pengguna memasukkan sebuah bilangan bulat positif, dan kemudian menentukan apakah bilangan tersebut adalah bilangan prima atau bukan. Sebuah bilangan prima hanya memiliki dua faktor positif, yaitu 1 dan dirinya sendir\n",
        "\n",
        "  Example :\n",
        "Masukkan bilangan bulat positif: 7\n",
        "7 adalah bilangan prima.\n",
        "\n",
        "  Masukkan bilangan bulat positif: 12\n",
        "12 bukan bilangan prima."
      ]
    },
    {
      "cell_type": "code",
      "execution_count": null,
      "id": "ngiv98Q9kuXK",
      "metadata": {
        "id": "ngiv98Q9kuXK"
      },
      "outputs": [
        {
          "name": "stdout",
          "output_type": "stream",
          "text": [
            "11 adalah bilangan prima\n"
          ]
        }
      ],
      "source": [
        "def isPrime(bil):\n",
        "  if bil <= 0:\n",
        "    return \"masukkan bilangan bulat positif\"\n",
        "  elif bil == 1:\n",
        "      return \"1 bukan bilangan prima\"\n",
        "  else:\n",
        "      for i in range(2, int(bil ** 0.5) + 1):\n",
        "        if bil % i == 0:\n",
        "          return f\"{bil} bukan bilangan prima\"\n",
        "\n",
        "      return f\"{bil} adalah bilangan prima\"\n",
        "\n",
        "\n",
        "\n",
        "try:\n",
        "    kalimat = int(input(\"Masukkan bilangan bulat positif: \"))\n",
        "\n",
        "    hasil = isPrime(kalimat)\n",
        "    print(hasil)\n",
        "except ValueError:\n",
        "    print(\"tidak valid, harus angka\")"
      ]
    },
    {
      "cell_type": "markdown",
      "id": "090858a5",
      "metadata": {
        "id": "090858a5"
      },
      "source": [
        "5. Buatlah program Python yang meminta pengguna untuk memasukkan sebuah kata atau frase, dan kemudian menentukan apakah kata atau frase tersebut merupakan palindrom (bisa dibaca sama dari depan maupun dari belakang).\n",
        "\n",
        "  Masukkan sebuah kata atau frase: radar\n",
        "radar adalah palindrom.\n",
        "\n",
        "  Masukkan sebuah kata atau frase: hello\n",
        "hello bukan palindrom."
      ]
    },
    {
      "cell_type": "code",
      "execution_count": 17,
      "id": "6b27fb11",
      "metadata": {},
      "outputs": [
        {
          "name": "stdout",
          "output_type": "stream",
          "text": [
            "aku sebelas kali bukan palindrom\n"
          ]
        }
      ],
      "source": [
        "def isPalindrome(kalimat):\n",
        "    lowered = kalimat.lower().replace(' ', '')\n",
        "    reverse = lowered[::-1]\n",
        "\n",
        "    return lowered == reverse\n",
        "\n",
        "\n",
        "try:\n",
        "    kalimat = input(\"Masukkan bilangan bulat positif: \")\n",
        "\n",
        "    hasil = isPalindrome(kalimat)\n",
        "    \n",
        "    if hasil:\n",
        "        print(f\"{kalimat} adalah palindrom\")\n",
        "    else:\n",
        "        print(f\"{kalimat} bukan palindrom\")\n",
        "except ValueError:\n",
        "    print(\"tidak valid, harus angka\")"
      ]
    },
    {
      "cell_type": "markdown",
      "id": "ccad9320",
      "metadata": {
        "id": "ccad9320"
      },
      "source": [
        "6. Buatlah sebuah program yang mengeluarkan output berupa profile seperti nama, kota asal, band favorit dan makan favorit.\n",
        "\n",
        "  Example :\n",
        "Nama : Zen\n",
        "Domisili : Kendari\n",
        "Band Favorit : JKT48\n",
        "Makanan Favorit : Nasi Goreng"
      ]
    },
    {
      "cell_type": "code",
      "execution_count": 2,
      "id": "75ef6302",
      "metadata": {},
      "outputs": [
        {
          "name": "stdout",
          "output_type": "stream",
          "text": [
            "Nama : Hatfan\n",
            "Domisili : Surabaya\n",
            "Band Favorit : GAC\n",
            "Makanan Favorit : Bolu Pisang\n"
          ]
        }
      ],
      "source": [
        "nama = input(\"Nama : \")\n",
        "domisili = input(\"Domisili : \")\n",
        "fav_band = input(\"Band Favorit : \")\n",
        "fav_food = input(\"Makanan Favorit : \")\n",
        "\n",
        "print(f\"Nama : {nama}\\nDomisili : {domisili}\\nBand Favorit : {fav_band}\\nMakanan Favorit : {fav_food}\")"
      ]
    },
    {
      "cell_type": "markdown",
      "id": "64918a4d",
      "metadata": {
        "id": "64918a4d"
      },
      "source": [
        "7. Buatlah sebuah program yang dapat menghitung luas total segitiga"
      ]
    },
    {
      "cell_type": "code",
      "execution_count": null,
      "id": "cedfb94d",
      "metadata": {},
      "outputs": [
        {
          "name": "stdout",
          "output_type": "stream",
          "text": [
            "Luas Segitiga yang memiliki alas 39.0 cm dan tinggi 40.0 cm adalah 780.0 cm²\n"
          ]
        }
      ],
      "source": [
        "def rumus_luas_segitiga(alas, tinggi):\n",
        "    return 0.5 * alas * tinggi\n",
        "\n",
        "\n",
        "try:\n",
        "    alas_segitiga = abs(float(input(\"Masukkan Alas segitiga : \")))\n",
        "    tinggi_segitiga = abs(float(input(\"Masukkan Tinggi segitiga : \")))\n",
        "    \n",
        "\n",
        "    hasil = rumus_luas_segitiga(alas_segitiga, tinggi_segitiga)\n",
        "    print(f\"Luas Segitiga yang memiliki alas {alas_segitiga} cm dan tinggi {tinggi_segitiga} cm adalah {hasil} cm\\u00b2\")\n",
        "except ValueError:\n",
        "    print(\"tidak valid, harus angka\")"
      ]
    },
    {
      "cell_type": "markdown",
      "id": "37457ff6",
      "metadata": {
        "id": "37457ff6"
      },
      "source": [
        "8. Pak maman ingin menukarkan uangnya sejumlah RP. 32.892.700 kedalam pecahan uang Rp. 100.000 Rp 50.000 Rp. 10.000 Rp 5.000 Rp 1000 Rp 500 dan Rp 100 ke pak budi, Buatlah pemrograman python yang bisa membantu mempercepat pak Budi dalam menentukan berapa buah/lembar uang untuk masih masih pecahan tersebut"
      ]
    },
    {
      "cell_type": "code",
      "execution_count": 17,
      "id": "c8c41bbc",
      "metadata": {},
      "outputs": [
        {
          "name": "stdout",
          "output_type": "stream",
          "text": [
            "Uang Rp 100000 sebanyak 328 lembar\n",
            "\n",
            "Uang Rp 50000 sebanyak 1 lembar\n",
            "\n",
            "Uang Rp 10000 sebanyak 4 lembar\n",
            "\n",
            "Uang Rp 1000 sebanyak 2 lembar\n",
            "\n",
            "Uang Rp 500 sebanyak 1 lembar\n",
            "\n",
            "Uang Rp 100 sebanyak 2 lembar\n",
            "\n"
          ]
        }
      ],
      "source": [
        "def masih(uang, pecahan):\n",
        "    return uang >= pecahan \n",
        "\n",
        "def tukar_uang(uang):\n",
        "    pecahan = [100000, 50000, 10000, 5000, 1000, 500, 100]\n",
        "    lembar = [0] * len(pecahan)\n",
        "\n",
        "    sisa = uang\n",
        "    for i in range(len(pecahan)):\n",
        "        while masih(sisa, pecahan[i]):\n",
        "            sisa -= pecahan[i]\n",
        "            lembar[i] += 1\n",
        "\n",
        "    for i in range(len(pecahan)):\n",
        "        if lembar[i] == 0:\n",
        "            continue\n",
        "\n",
        "        print(f\"Uang Rp {pecahan[i]} sebanyak {lembar[i]} lembar\\n\")\n",
        "\n",
        "\n",
        "\n",
        "uang_input = 32892700\n",
        "\n",
        "tukar_uang(uang_input)"
      ]
    },
    {
      "cell_type": "markdown",
      "id": "03e12c77",
      "metadata": {
        "id": "03e12c77"
      },
      "source": [
        "9. Buatlah program python yang berguna untuk mengkonversi dari celcius menjadi fahrenheit"
      ]
    },
    {
      "cell_type": "code",
      "execution_count": 19,
      "id": "c5ccef68",
      "metadata": {},
      "outputs": [
        {
          "name": "stdout",
          "output_type": "stream",
          "text": [
            "Suhu 50.0°C setara dengan 122.0°F\n"
          ]
        }
      ],
      "source": [
        "def celcius_to_fahrenheit(celcius):\n",
        "    fahrenheit = (celcius * 9/5) + 32\n",
        "    print(f\"Suhu {celcius}°C setara dengan {fahrenheit}°F\")\n",
        "\n",
        "try:\n",
        "    celcius = float(input(\"Masukkan suhu dalam Celcius: \"))\n",
        "\n",
        "    celcius_to_fahrenheit(celcius)\n",
        "except ValueError:\n",
        "    print(\"tidak valid, harus angka\")"
      ]
    },
    {
      "cell_type": "markdown",
      "id": "b665d3ad",
      "metadata": {
        "id": "b665d3ad"
      },
      "source": [
        "10. Supermarket X adalah satu-satunya supermarket di kota Solo terkenal karena kejujurannya. Berapapun total belanja pelanggan, selalu dibulatkan ke bawah ke kelipatan Rp 1000 rupiah. Sebagai contoh misalkan total belanja pelanggan adalah Rp 120.580, maka akan dibulatkan ke Rp 120.000 atau misalkan totalnya Rp 99.999 maja akan dibulatkan kebawah menjadi Rp 99.000. Karena kebaikan supermarket inilah,m semakin lama semakin banyak pelanggannya. Namun, karena kasirnya masih menggunakan sistem manual, maka semakin lama kasir mengalami kerepotan dalam menangani transaksi perharinya. Buatlah sebuah pemrograman Python untuk membantu kasir dalam menentukan total belanja sesuai ketentuan yang berlaku di supermarket tersebut. Input program adalah total belanja pelanggan, sedangkan outputnya adalah total belanja setelah pembulatan ke bawah ke kelipatan Rp 1000"
      ]
    },
    {
      "cell_type": "code",
      "execution_count": 23,
      "id": "3a382af9",
      "metadata": {},
      "outputs": [
        {
          "name": "stdout",
          "output_type": "stream",
          "text": [
            "total belanja anda adalah : Rp 293000\n"
          ]
        }
      ],
      "source": [
        "def pembulatan(input):\n",
        "    return int(input / 1000) * 1000\n",
        "\n",
        "try:\n",
        "    uang = int(input(\"Masukkan uang (Rp): \"))\n",
        "\n",
        "    hasil = pembulatan(uang)\n",
        "    print(f\"total belanja anda adalah : Rp {hasil}\")\n",
        "except ValueError:\n",
        "    print(\"tidak valid, harus angka bulat\")"
      ]
    },
    {
      "cell_type": "markdown",
      "id": "54edd5b0",
      "metadata": {
        "id": "54edd5b0"
      },
      "source": [
        "11. Hitunglah Upah Kerja (Kotor) dari seluruh karyawan Perusahaan B jika diketahui upah per jam adalah Rp 30000\n",
        "\n",
        "  Tampilkan output sebagai berikut\n",
        "\n",
        "  Contoh:\n",
        "Upah Kerja (Kotor) Doni = Rp 380000\n",
        "Keterangan :\n",
        "  - Upah per jam = 30000\n",
        "  - Upah Kerja (Kotor) = Jam Kerja x Upah per Jam\n",
        "Upah Kerja (Kotor) Joko = Rp 1320000\n",
        "Upah Kerja (Kotor) Alex = Rp 1440000\n",
        "Upah Kerja (Kotor) Chandra = Rp 1500000\n",
        "Upah Kerja (Kotor) Hartono = Rp 1260000\n",
        "Upah Kerja (Kotor) Samsul = Rp 1350000"
      ]
    },
    {
      "cell_type": "markdown",
      "id": "7fd0c01a",
      "metadata": {
        "id": "7fd0c01a"
      },
      "source": [
        "12. Hitunglah Upah Lembur dari seluruh karyawan Perusahaan B\n",
        "\n",
        "  Tampilkan output sebagai berikut: contoh\n",
        "\n",
        "  Contoh:\n",
        "Upah Lembur Doni = Rp 23000\n",
        "Keterangan :\n",
        "  - Upah lembur per jam = 35000\n",
        "  - Upah Lembur = Jam Lembur x Upah lembur per jam\n",
        "Upah Lembur Joko = Rp 420000\n",
        "Upah Lembur Alex = Rp 385000\n",
        "Upah Lembur Chandra = Rp 350000\n",
        "Upah Lembur Hartono = Rp 525000\n",
        "Upah Lembur Samsul = Rp 420000"
      ]
    },
    {
      "cell_type": "markdown",
      "id": "ab25a2d5",
      "metadata": {
        "id": "ab25a2d5"
      },
      "source": [
        "13. Kita berbelanja bahan makanan di supermarket. Berikut merupakan harga bahan makanan yang dibeli:\n",
        "\n",
        "  ayam adalah 15000\n",
        "bumbu 10000\n",
        "beras 50000.\n",
        "Total belanja nya adalah 160000.\n",
        "Cobalah masukkan angka tersebut ke dalam variabel, kemudian print menggunakan f-string untuk semua variabel!"
      ]
    },
    {
      "cell_type": "markdown",
      "id": "a222e560",
      "metadata": {
        "id": "a222e560"
      },
      "source": [
        "Rima merupakan seorang anak yang sangat hemat. Namun, suatu ketika dirinya merasa boros dan akhirnya Rima pun me-list pengeluarannya minggu ini dan didapat hasil sebagai berikut:\n",
        "\n",
        "Baju: 200.000\n",
        "Tumblr: 75.000\n",
        "Tas: 150.000\n",
        "Berapakah total biaya yang telah dikeluarkan oleh Rima dalam minggu ini?"
      ]
    },
    {
      "cell_type": "markdown",
      "id": "bcba3cc3",
      "metadata": {
        "id": "bcba3cc3"
      },
      "source": [
        "14. James Hoffman pergi ke PaperCup Coffee milik Andi, setelah mencicipi kopi buatan toko tersebut James termotivasi untuk membuat kopi sendiri ketika di rumah nanti. James pergi ke Supermarket untuk membeli keperluan membuat kopi, berikut adalah barang yang dibeli dan harganya:\n",
        "\n",
        "Biji Kopi yang dibeli adalah \"Ethiopian Coffee Beans\" dengan harga Rp 115.000\n",
        "Alat yang dibutuhkan untuk menyeduh kopi sendiri James membeli alat \"V60\" dengan harga Rp 95.500\n",
        "Cobalah masukkan nilai - nilai tersebut ke dalam variable dan buatlah code yang sesuai dengan output!\n",
        "\n",
        "output : Biji Kopi yang dibeli oleh James Hoffman adalah Ethiopian Coffee Beans dengan harga 115000\n",
        "Alat untuk menyeduh kopi yang dibeli oleh James Hoffman adalah V60 dengan harga 95500"
      ]
    },
    {
      "cell_type": "markdown",
      "id": "a2bed253",
      "metadata": {
        "id": "a2bed253"
      },
      "source": [
        "15. Pak Hartono agak kesal karena harga BBM naik dari Rp 7650 per liter menjadi Rp 10000 per liter. Jika sebelumnya beliau membeli Rp 20000 sudah full tank, berapa liter yang harus dibayar Pak Hartono jika mengisi full tank dengan harga yang baru ?"
      ]
    },
    {
      "cell_type": "markdown",
      "id": "19bbebc3",
      "metadata": {
        "id": "19bbebc3"
      },
      "source": [
        "16. Putra bekerja di sebuah perusahaan swasta. Beliau mendapatkan gaji tahunan sebesar Rp 160 juta dan dibayarkan setiap dua minggu. Jika dalam satu tahun gaji tersebut dibayarkan sebanyak 26 kali, berapakah gaji yang di dapatkan Putra selama dua minggu ?"
      ]
    },
    {
      "cell_type": "markdown",
      "id": "14bfd216",
      "metadata": {
        "id": "14bfd216"
      },
      "source": [
        "17. Anda memiliki perusahaan percetakan. Pelanggan anda meminta anda untuk mencetak tulisan \"HAPPI BIRTHDAY\". Namun ternyata di dalam file tulisan yang dikirim, anda menyadari bahwa ada tulisan typo yaitu I di dalam kata HAPPI yang seharusnya huruf Y. Pelanggan meminta anda untuk mengganti dengan yang benar dan mengubah hurufnya menjadi besar di awal kata saja. Coba revisi tulisan HAPPI BIRTHDAY sesuai permintaan pelanggan anda!"
      ]
    },
    {
      "cell_type": "markdown",
      "id": "3122969e",
      "metadata": {
        "id": "3122969e"
      },
      "source": [
        "18. Terdapat kode pos NZ12348, dimana 2 karakter awal adalah kode negara. Coba ambil kode negara dari string tersebut!"
      ]
    },
    {
      "cell_type": "markdown",
      "id": "93205818",
      "metadata": {
        "id": "93205818"
      },
      "source": [
        "19. Pengguna aplikasi e-commerce mendapatkan voucher belanja jika memenuhi salah satu ketentuan yaitu belanja 7 hari berturut-turut atau belanja lebih dari 1 juta, Hilmi tidak belanja 7 hari berturut-turut namun ia telah melakukan transaksi 1 juta, apakah Hilmi mendapatkan voucher belanja? (True/False)"
      ]
    },
    {
      "cell_type": "markdown",
      "id": "f3f12339",
      "metadata": {
        "id": "f3f12339"
      },
      "source": [
        "20. Pak Joko membandingkan harga stock produk barang kecantikan pada kedua supplier yang berbeda.\n",
        "Supplier pertama menawarkan 10 kardus isi produk kecantikan Nivae dengan harga 1.500.000 rupiah\n",
        "Sedangkan supplier kedua menawarkan 12 kardus isi produk kecantikan Garneir dengan harga 1.700.000 rupiah.\n",
        "Dengan kedua harga tersebut Pak Joko memprioritaskan untuk menekan budgetnya dengan membeli stock produk yang paling murah yaitu dengan cara mempertimbangkan harga per kardusnya.\n",
        "Buatlah operasi matematika perbandingan stock produk barang kecantikan apakah harga produk Nivae lebih besar dari harga produk Garneir dalam Python!"
      ]
    },
    {
      "cell_type": "markdown",
      "id": "03a84343",
      "metadata": {
        "id": "03a84343"
      },
      "source": [
        "21. ----------------------------------------------------------------------\n",
        "Start Up ditempat Haris bekerja dengan timnya sedang melakukan pengujian testing aplikasinya pada fitur dalam mendapatkan voucher belanja untuk user  \n",
        "\n",
        "| Jenis Voucher        |Nama variabel    |Tipe Data|\n",
        "|----------------------|-----------------|---------|\n",
        "|Voucher Gratis Ongkir |get_free_shipping|Boolean  |\n",
        "|Voucher Cashback      |get_cashback     |Boolean  |\n",
        "|Voucher Potongan Harga|get_discount     |Boolean  |\n",
        "|Voucher Pengguna Baru |get_newuser      |Boolean  |\n",
        "\n",
        "Terdapat beberapa user jenis yang mendapatkan voucher:\n",
        "1. Pengguna baru mendapatkan voucher pengguna baru saja\n",
        "2. Pengguna lama yang mendapatkan voucher gratis ongkir saja\n",
        "3. pengguna lama yang mendapatkan voucher potongan harga saja\n",
        "4. pengguna lama yang membeli barang mahal mendapatkan voucher gratis ongkir,cashback\n",
        "5. pengguna lama yang membeli barang mahal mendapatkan voucher gratis ongkir, voucher cashback dan potongan harga\n",
        "\n",
        "semua pengguna harus menggunakan semua variabel yang berada pada tabel <br>\n",
        "\n",
        "21A. Buatlah variabel yang sesuai dengan pengguna baru mendapatkan voucher pengguna baru saja <br>\n",
        "21B. Buatlah variabel pengguna lama yang mendapatkan voucher gratis ongkir saja <br>\n",
        "21C. Buatlah variabel pengguna lama yang mendapatkan voucher potongan harga saja <br>\n",
        "21D. Buatlah variabel pengguna lama yang membeli barang mahal mendapatkan voucher gratis ongkir,cashback <br>\n",
        "21E. Buatlah variabel pengguna lama yang membeli barang mahal mendapatkan voucher gratis ongkir, voucher cashback dan potongan harga"
      ]
    },
    {
      "cell_type": "markdown",
      "id": "f77bac63",
      "metadata": {
        "id": "f77bac63"
      },
      "source": [
        "22. Anda makan di sebuah restoran. Anda ingin memesan menu sesuai dengan budget anda.\n",
        "\n",
        "Jika uang anda lebih dari sama dengan 100.000 maka anda memakan steak\n",
        "Jika uang anda lebih dari sama dengan 50.000 maka anda memakan spaghetti\n",
        "Jika uang anda kurang dari 50.000 maka anda memakan nasi goreng\n",
        "Budget uang anda sebesar 60.000 maka lengkapilah program branching dibawah ini\n",
        "\n",
        "```\n",
        "uang = ...\n",
        "... ... ... ...:\n",
        "    print(\"Makan Steak\")\n",
        "... ... ... ...:\n",
        "    ...\n",
        "else:\n",
        "    ...\n",
        "```"
      ]
    },
    {
      "cell_type": "markdown",
      "id": "d64e8d60",
      "metadata": {
        "id": "d64e8d60"
      },
      "source": [
        "23. Jika Universitas yang dipilih adalah ITB, maka akan masuk FMIPA\n",
        "Jika Universitas yang dipilih adalah UI, maka akan masuk Statistik\n",
        "Jika tidak memasuki Universitas selain kondisi di atas, maka Yuni akan mencari Universitas yang lain\n",
        "\n",
        "```\n",
        "universitas = \"UI\"\n",
        "... ...:\n",
        "    ...\n",
        "... ...:\n",
        "    print(\"Jurusan statistik\")\n",
        "else:\n",
        "    print(\"Cari Universitas yang lain, semangat!!!\")\n",
        "```"
      ]
    },
    {
      "cell_type": "markdown",
      "id": "ea5fca98",
      "metadata": {
        "id": "ea5fca98"
      },
      "source": [
        "24. Lengkapi program branching dibawah ini,\n",
        "\n",
        "Jika nilai lebih dari sama dengan 75 maka akan mendapatkan nilai A\n",
        "Jika nilai ada di 50-75 maka akan mendapatkan nilai B\n",
        "Jika nilai di bawah 50 maka akan mendapatkan nilai C.\n",
        "\n",
        "```\n",
        "nilai = 80\n",
        "... ... >= ...:\n",
        "    ...\n",
        "... ... ... 50:\n",
        "    print(\"nilai B\")\n",
        "...:\n",
        "    ...\n",
        "```"
      ]
    },
    {
      "cell_type": "markdown",
      "id": "3bf8fb4d",
      "metadata": {
        "id": "3bf8fb4d"
      },
      "source": [
        "25. Sebuah Toko Florist memberikan diskon 20% kepada pelanggan yang telah melakukan 3 transaksi sebelumnya\n",
        "Akan memberi diskon 30% untuk pelanggan yang telah melakukan 7 kali transaksi sebelumnya\n",
        "Gamal ingin membeli bouquet bunga dan sekarang merupakan transaksi yang ke 7 di Toko Florist tersebut\n",
        "Buat program Branching di bawah ini berdasarkan case diatas!"
      ]
    },
    {
      "cell_type": "markdown",
      "id": "8100bfc3",
      "metadata": {
        "id": "8100bfc3"
      },
      "source": [
        "26. Dokter merawat seorang pasien yang sedang sakit, dokter memiliki beberapa kondisi diagnosa yaitu\n",
        "\n",
        "Jika pasien flu tanpa gejala sakit tenggorokan bahwa pasien sakit flu biasa\n",
        "Jika pasien flu ditambah dengan sakit tenggorokan maka pasien sakit radang tenggorokan\n",
        "Jika pasien flu ditambah sakit tenggorokan ditambah mual maka pasien sakit tonsilitis\n",
        "Ternyata terdapat pasien yang mengidap radang tenggorokan. Ubahlah variabel kondisi_1 dan kondisi_2 agar mengeluarkan diagnosa \"pasien sakit radang tenggorokan\""
      ]
    },
    {
      "cell_type": "markdown",
      "id": "b026a137",
      "metadata": {
        "id": "b026a137"
      },
      "source": [
        "27. Pada Supermarket A customer akan mendapatkan promo menarik jika:\n",
        "\n",
        "Jika customer berbelanja di atas Rp 350.000 akan mendapatkan diskon 5%\n",
        "Jika customer berbelanja di atas Rp 350.000 dan barang yang terakhir dibeli adalah \"Sate Cap Windbreaker\" akan mendapatkan diskon 15%\n",
        "Jika customer berbelanja tidak di atas Rp 350.000 tidak mendapatkan diskon"
      ]
    }
  ],
  "metadata": {
    "colab": {
      "provenance": []
    },
    "kernelspec": {
      "display_name": "env",
      "language": "python",
      "name": "python3"
    },
    "language_info": {
      "codemirror_mode": {
        "name": "ipython",
        "version": 3
      },
      "file_extension": ".py",
      "mimetype": "text/x-python",
      "name": "python",
      "nbconvert_exporter": "python",
      "pygments_lexer": "ipython3",
      "version": "3.13.2"
    }
  },
  "nbformat": 4,
  "nbformat_minor": 5
}
