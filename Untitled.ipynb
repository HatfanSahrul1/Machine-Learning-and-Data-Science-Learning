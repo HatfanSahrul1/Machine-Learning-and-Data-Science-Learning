{
 "cells": [
  {
   "cell_type": "code",
   "execution_count": 1,
   "id": "b48a06da-6546-41b7-81b8-4b8f80ee7cc0",
   "metadata": {},
   "outputs": [],
   "source": [
    "import pandas as pd\n",
    "import numpy as np\n",
    "import matplotlib.pyplot as plt\n",
    "import sklearn"
   ]
  },
  {
   "cell_type": "markdown",
   "id": "ec9c8e89-2675-4a6d-8b9f-3dcc7d1bf445",
   "metadata": {},
   "source": [
    "Buat data frame"
   ]
  },
  {
   "cell_type": "code",
   "execution_count": null,
   "id": "26fc827d-83b7-4de5-9926-4f4a767d8046",
   "metadata": {
    "scrolled": true
   },
   "outputs": [],
   "source": [
    "data = {\n",
    "    \"Nama\" : [\"Hatfan\", \"Sahrul\", \"Ramadhan\"],\n",
    "    \"MTK\" : [3.4, 3.5, 3.8],\n",
    "    \"Fisika\" : [3.7, 3.4, 3.0],\n",
    "    \"Terapan\" : [3.9, 3.8, 3.7]\n",
    "}\n",
    "\n",
    "df = pd.DataFrame(data)\n",
    "\n",
    "print(\"Data Nilai Mahasiswa\\n\", df)"
   ]
  },
  {
   "cell_type": "code",
   "execution_count": null,
   "id": "d9df6184-7557-4d6c-bc48-2c10fcac3482",
   "metadata": {},
   "outputs": [],
   "source": [
    "\n",
    "\n",
    "\n",
    "\n",
    "\n",
    "\n",
    "\n",
    "\n",
    "\n",
    "\n"
   ]
  }
 ],
 "metadata": {
  "kernelspec": {
   "display_name": "Python 3 (ipykernel)",
   "language": "python",
   "name": "python3"
  },
  "language_info": {
   "codemirror_mode": {
    "name": "ipython",
    "version": 3
   },
   "file_extension": ".py",
   "mimetype": "text/x-python",
   "name": "python",
   "nbconvert_exporter": "python",
   "pygments_lexer": "ipython3",
   "version": "3.13.2"
  }
 },
 "nbformat": 4,
 "nbformat_minor": 5
}
